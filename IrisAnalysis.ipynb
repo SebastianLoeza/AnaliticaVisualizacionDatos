{
 "cells": [
  {
   "cell_type": "code",
   "execution_count": 33,
   "metadata": {},
   "outputs": [],
   "source": [
    "import pandas as pd\n",
    "import csv \n",
    "from ucimlrepo import fetch_ucirepo \n",
    "import numpy as np\n",
    "pd.set_option('display.max_columns', None)"
   ]
  },
  {
   "cell_type": "code",
   "execution_count": 34,
   "metadata": {},
   "outputs": [
    {
     "data": {
      "text/html": [
       "<div>\n",
       "<style scoped>\n",
       "    .dataframe tbody tr th:only-of-type {\n",
       "        vertical-align: middle;\n",
       "    }\n",
       "\n",
       "    .dataframe tbody tr th {\n",
       "        vertical-align: top;\n",
       "    }\n",
       "\n",
       "    .dataframe thead th {\n",
       "        text-align: right;\n",
       "    }\n",
       "</style>\n",
       "<table border=\"1\" class=\"dataframe\">\n",
       "  <thead>\n",
       "    <tr style=\"text-align: right;\">\n",
       "      <th></th>\n",
       "      <th>sepal length</th>\n",
       "      <th>sepal width</th>\n",
       "      <th>petal length</th>\n",
       "      <th>petal width</th>\n",
       "      <th>species</th>\n",
       "    </tr>\n",
       "  </thead>\n",
       "  <tbody>\n",
       "    <tr>\n",
       "      <th>0</th>\n",
       "      <td>5.1</td>\n",
       "      <td>3.5</td>\n",
       "      <td>1.4</td>\n",
       "      <td>0.2</td>\n",
       "      <td>Iris-setosa</td>\n",
       "    </tr>\n",
       "    <tr>\n",
       "      <th>1</th>\n",
       "      <td>4.9</td>\n",
       "      <td>3.0</td>\n",
       "      <td>1.4</td>\n",
       "      <td>0.2</td>\n",
       "      <td>Iris-setosa</td>\n",
       "    </tr>\n",
       "    <tr>\n",
       "      <th>2</th>\n",
       "      <td>4.7</td>\n",
       "      <td>3.2</td>\n",
       "      <td>1.3</td>\n",
       "      <td>0.2</td>\n",
       "      <td>Iris-setosa</td>\n",
       "    </tr>\n",
       "    <tr>\n",
       "      <th>3</th>\n",
       "      <td>4.6</td>\n",
       "      <td>3.1</td>\n",
       "      <td>1.5</td>\n",
       "      <td>0.2</td>\n",
       "      <td>Iris-setosa</td>\n",
       "    </tr>\n",
       "    <tr>\n",
       "      <th>4</th>\n",
       "      <td>5.0</td>\n",
       "      <td>3.6</td>\n",
       "      <td>1.4</td>\n",
       "      <td>0.2</td>\n",
       "      <td>Iris-setosa</td>\n",
       "    </tr>\n",
       "    <tr>\n",
       "      <th>...</th>\n",
       "      <td>...</td>\n",
       "      <td>...</td>\n",
       "      <td>...</td>\n",
       "      <td>...</td>\n",
       "      <td>...</td>\n",
       "    </tr>\n",
       "    <tr>\n",
       "      <th>145</th>\n",
       "      <td>6.7</td>\n",
       "      <td>3.0</td>\n",
       "      <td>5.2</td>\n",
       "      <td>2.3</td>\n",
       "      <td>Iris-virginica</td>\n",
       "    </tr>\n",
       "    <tr>\n",
       "      <th>146</th>\n",
       "      <td>6.3</td>\n",
       "      <td>2.5</td>\n",
       "      <td>5.0</td>\n",
       "      <td>1.9</td>\n",
       "      <td>Iris-virginica</td>\n",
       "    </tr>\n",
       "    <tr>\n",
       "      <th>147</th>\n",
       "      <td>6.5</td>\n",
       "      <td>3.0</td>\n",
       "      <td>5.2</td>\n",
       "      <td>2.0</td>\n",
       "      <td>Iris-virginica</td>\n",
       "    </tr>\n",
       "    <tr>\n",
       "      <th>148</th>\n",
       "      <td>6.2</td>\n",
       "      <td>3.4</td>\n",
       "      <td>5.4</td>\n",
       "      <td>2.3</td>\n",
       "      <td>Iris-virginica</td>\n",
       "    </tr>\n",
       "    <tr>\n",
       "      <th>149</th>\n",
       "      <td>5.9</td>\n",
       "      <td>3.0</td>\n",
       "      <td>5.1</td>\n",
       "      <td>1.8</td>\n",
       "      <td>Iris-virginica</td>\n",
       "    </tr>\n",
       "  </tbody>\n",
       "</table>\n",
       "<p>150 rows × 5 columns</p>\n",
       "</div>"
      ],
      "text/plain": [
       "     sepal length  sepal width  petal length  petal width         species\n",
       "0             5.1          3.5           1.4          0.2     Iris-setosa\n",
       "1             4.9          3.0           1.4          0.2     Iris-setosa\n",
       "2             4.7          3.2           1.3          0.2     Iris-setosa\n",
       "3             4.6          3.1           1.5          0.2     Iris-setosa\n",
       "4             5.0          3.6           1.4          0.2     Iris-setosa\n",
       "..            ...          ...           ...          ...             ...\n",
       "145           6.7          3.0           5.2          2.3  Iris-virginica\n",
       "146           6.3          2.5           5.0          1.9  Iris-virginica\n",
       "147           6.5          3.0           5.2          2.0  Iris-virginica\n",
       "148           6.2          3.4           5.4          2.3  Iris-virginica\n",
       "149           5.9          3.0           5.1          1.8  Iris-virginica\n",
       "\n",
       "[150 rows x 5 columns]"
      ]
     },
     "execution_count": 34,
     "metadata": {},
     "output_type": "execute_result"
    }
   ],
   "source": [
    "  # fetch dataset \n",
    "iris_dataset = fetch_ucirepo(id=53) \n",
    "  \n",
    "# data (as pandas dataframes) \n",
    "iris = iris_dataset.data.features \n",
    "iris['species'] = iris_dataset.data.targets \n",
    "\n",
    "iris\n"
   ]
  },
  {
   "cell_type": "code",
   "execution_count": 35,
   "metadata": {},
   "outputs": [],
   "source": [
    "with open(\"IrisAreas.csv\", \"w\", newline='') as file:\n",
    "    writer = csv.writer(file)\n",
    "    writer.writerow([\"petal area\", \"sepal area\", \"species\"])"
   ]
  },
  {
   "cell_type": "code",
   "execution_count": 36,
   "metadata": {},
   "outputs": [],
   "source": [
    "# Write areas of each object in a csv\n",
    "def writeAreas (petal_area, sepal_area, specie):\n",
    "    n = len(petal_area)\n",
    "    \n",
    "    with open(\"IrisAreas.csv\", \"a\", newline='') as file:\n",
    "        writer = csv.writer(file)\n",
    "        for i in range(n):\n",
    "            row = [petal_area[i], sepal_area[i], specie]\n",
    "            writer.writerow(row)"
   ]
  },
  {
   "cell_type": "markdown",
   "metadata": {},
   "source": [
    "## Pregunta 1\n",
    "\n",
    "Calcular el área del sépalo y pétalo para cada especie de Iris. "
   ]
  },
  {
   "cell_type": "code",
   "execution_count": 37,
   "metadata": {},
   "outputs": [],
   "source": [
    "#Pregunta 1\n",
    "\n",
    "def petalArea(X: pd.DataFrame): \n",
    "    areas=[]\n",
    "    for i,fila in X.iterrows():\n",
    "        petal_length=fila[2]\n",
    "        petal_width=fila[3]\n",
    "        areas.append(round(petal_length * petal_width, 2))\n",
    "    return areas\n",
    "\n",
    "def sepalArea(X:pd.DataFrame):\n",
    "    areas=[]\n",
    "    for i,fila in X.iterrows():\n",
    "        sepal_lenght=fila[0]\n",
    "        sepal_width=fila[1]\n",
    "        areas.append(round(sepal_lenght * sepal_width, 2))\n",
    "    return areas"
   ]
  },
  {
   "cell_type": "code",
   "execution_count": 38,
   "metadata": {},
   "outputs": [],
   "source": [
    "#Setosa\n",
    "setosa_petal_area = petalArea(iris[iris['species'] == 'Iris-setosa'])\n",
    "setosa_sepal_area = sepalArea(iris[iris['species'] == 'Iris-setosa'])\n",
    "\n",
    "writeAreas(setosa_petal_area, setosa_sepal_area, 'Iris-setosa')"
   ]
  },
  {
   "cell_type": "code",
   "execution_count": 39,
   "metadata": {},
   "outputs": [],
   "source": [
    "#\n",
    "versicolor_petal_area = petalArea(iris[iris['species'] == 'Iris-versicolor'])\n",
    "versicolor_sepal_area = sepalArea(iris[iris['species'] == 'Iris-versicolor'])\n",
    "\n",
    "writeAreas(versicolor_petal_area, versicolor_sepal_area, 'Iris-versicolor')"
   ]
  },
  {
   "cell_type": "code",
   "execution_count": 40,
   "metadata": {},
   "outputs": [],
   "source": [
    "#Virginica\n",
    "virginica_petal_area = petalArea(iris[iris['species'] == 'Iris-virginica'])\n",
    "virginica_sepal_area = sepalArea(iris[iris['species'] == 'Iris-virginica'])\n",
    "\n",
    "writeAreas(virginica_petal_area, virginica_sepal_area, 'Iris-virginica')"
   ]
  },
  {
   "cell_type": "markdown",
   "metadata": {},
   "source": [
    "## Pregunta 2\n",
    "\n",
    "Podemos resolver obteniendo la desviación estándar del área de los pétalos y sépalos y aqeullos que se encuentren a dos desviaciones etándar podría ser que estén mal clasificados"
   ]
  },
  {
   "cell_type": "code",
   "execution_count": 41,
   "metadata": {},
   "outputs": [],
   "source": [
    "def arithmetic_mean(my_list):\n",
    "    n = len(my_list)\n",
    "    sum_area = 0\n",
    "    for a in my_list:\n",
    "        sum_area += a\n",
    "    return sum_area/n\n",
    "\n",
    "def variance(my_list):\n",
    "    suma = 0\n",
    "    n = len(my_list)\n",
    "    media = arithmetic_mean(my_list)\n",
    "    for i in range(n):\n",
    "        suma += (my_list[i]-media)**2\n",
    "    return suma / n\n",
    "\n",
    "def standardDeviation(my_list):\n",
    "    return variance(my_list)**0.5"
   ]
  },
  {
   "cell_type": "code",
   "execution_count": 42,
   "metadata": {},
   "outputs": [
    {
     "name": "stdout",
     "output_type": "stream",
     "text": [
      "----------Sepecie Setosa----------\n",
      "Area promedio del Pétalo: 0.363, Desviación Estándard del área del pétalo 0.181, Límite 0.726\n",
      "Area promedio del Sépalo: 17.209, Desviación Estándard del área del sépalo 2.918, Límite 23.045\n",
      "\n",
      "Posibles elementos mal clasificados: \n",
      "Elemento 23, área del pétalo 0.85\n",
      "Elemento 43, área del pétalo 0.96\n",
      "Elemento 44, área del pétalo 0.76\n",
      "\n",
      "Elemento 14, área del sépalo 23.2\n",
      "Elemento 15, área del sépalo 25.08\n",
      "Elemento 33, área del sépalo 23.1\n"
     ]
    }
   ],
   "source": [
    "#Setosa\n",
    "\n",
    "setosa_petal_area_mean = arithmetic_mean(setosa_petal_area)\n",
    "setosa_petal_area_sd = standardDeviation(setosa_petal_area)\n",
    "\n",
    "setosa_sepal_area_mean = arithmetic_mean(setosa_sepal_area)\n",
    "setosa_sepal_area_sd = standardDeviation(setosa_sepal_area)\n",
    "\n",
    "petal_treshold = setosa_petal_area_mean + (2 * setosa_petal_area_sd )\n",
    "sepal_treshold = setosa_sepal_area_mean + (2 * setosa_sepal_area_sd )\n",
    "\n",
    "print('-' * 10 + \"Sepecie Setosa\" + '-' * 10)\n",
    "\n",
    "print(f\"Area promedio del Pétalo: {setosa_petal_area_mean:.3f}, Desviación Estándard del área del pétalo {setosa_petal_area_sd:.3f}, Límite {petal_treshold:.3f}\")\n",
    "\n",
    "print(f\"Area promedio del Sépalo: {setosa_sepal_area_mean:.3f}, Desviación Estándard del área del sépalo {setosa_sepal_area_sd:.3f}, Límite {sepal_treshold:.3f}\")\n",
    "\n",
    "print(\"\\nPosibles elementos mal clasificados: \")\n",
    "\n",
    "for i in range(50):\n",
    "    if setosa_petal_area[i] > petal_treshold:\n",
    "        print(f\"Elemento {i}, área del pétalo {setosa_petal_area[i]}\")\n",
    "\n",
    "print()\n",
    "for i in range(50):\n",
    "    if setosa_sepal_area[i] > sepal_treshold:\n",
    "        print(f\"Elemento {i}, área del sépalo {setosa_sepal_area[i]}\")"
   ]
  },
  {
   "cell_type": "code",
   "execution_count": 43,
   "metadata": {},
   "outputs": [
    {
     "name": "stdout",
     "output_type": "stream",
     "text": [
      "----------Sepecie Versicolor----------\n",
      "Area promedio del Pétalo: 5.720, Desviación Estándard del área del pétalo 1.355, Límite 8.430\n",
      "Area promedio del Sépalo: 16.526, Desviación Estándard del área del sépalo 2.838, Límite 22.202\n",
      "\n",
      "Posibles elementos mal clasificados: \n",
      "Elemento 20, área del pétalo 8.64\n",
      "Elemento 27, área del pétalo 8.5\n",
      "\n",
      "Elemento 0, área del sépalo 22.4\n"
     ]
    }
   ],
   "source": [
    "#versicolor\n",
    "\n",
    "versicolor_petal_area_mean = arithmetic_mean(versicolor_petal_area)\n",
    "versicolor_petal_area_sd = standardDeviation(versicolor_petal_area)\n",
    "\n",
    "versicolor_sepal_area_mean = arithmetic_mean(versicolor_sepal_area)\n",
    "versicolor_sepal_area_sd = standardDeviation(versicolor_sepal_area)\n",
    "\n",
    "petal_treshold = versicolor_petal_area_mean + (2 * versicolor_petal_area_sd )\n",
    "sepal_treshold = versicolor_sepal_area_mean + (2 * versicolor_sepal_area_sd )\n",
    "\n",
    "print('-' * 10 + \"Sepecie Versicolor\" + '-' * 10)\n",
    "\n",
    "print(f\"Area promedio del Pétalo: {versicolor_petal_area_mean:.3f}, Desviación Estándard del área del pétalo {versicolor_petal_area_sd:.3f}, Límite {petal_treshold:.3f}\")\n",
    "\n",
    "print(f\"Area promedio del Sépalo: {versicolor_sepal_area_mean:.3f}, Desviación Estándard del área del sépalo {versicolor_sepal_area_sd:.3f}, Límite {sepal_treshold:.3f}\")\n",
    "\n",
    "print(\"\\nPosibles elementos mal clasificados: \")\n",
    "\n",
    "for i in range(50):\n",
    "    if versicolor_petal_area[i] > petal_treshold:\n",
    "        print(f\"Elemento {i}, área del pétalo {versicolor_petal_area[i]}\")\n",
    "\n",
    "print()\n",
    "for i in range(50):\n",
    "    if versicolor_sepal_area[i] > sepal_treshold:\n",
    "        print(f\"Elemento {i}, área del sépalo {versicolor_sepal_area[i]}\")"
   ]
  },
  {
   "cell_type": "code",
   "execution_count": 44,
   "metadata": {},
   "outputs": [
    {
     "name": "stdout",
     "output_type": "stream",
     "text": [
      "----------Sepecie Virginica----------\n",
      "Area promedio del Pétalo: 11.296, Desviación Estándard del área del pétalo 2.136, Límite 15.568\n",
      "Area promedio del Sépalo: 19.685, Desviación Estándard del área del sépalo 3.424, Límite 26.533\n",
      "\n",
      "Posibles elementos mal clasificados: \n",
      "Elemento 18, área del pétalo 15.87\n",
      "\n",
      "Elemento 17, área del sépalo 29.26\n",
      "Elemento 31, área del sépalo 30.02\n"
     ]
    }
   ],
   "source": [
    "#Virginica\n",
    "\n",
    "virginica_petal_area_mean = arithmetic_mean(virginica_petal_area)\n",
    "virginica_petal_area_sd = standardDeviation(virginica_petal_area)\n",
    "\n",
    "virginica_sepal_area_mean = arithmetic_mean(virginica_sepal_area)\n",
    "virginica_sepal_area_sd = standardDeviation(virginica_sepal_area)\n",
    "\n",
    "petal_treshold = virginica_petal_area_mean + (2 * virginica_petal_area_sd )\n",
    "sepal_treshold = virginica_sepal_area_mean + (2 * virginica_sepal_area_sd )\n",
    "\n",
    "print('-' * 10 + \"Sepecie Virginica\" + '-' * 10)\n",
    "\n",
    "print(f\"Area promedio del Pétalo: {virginica_petal_area_mean:.3f}, Desviación Estándard del área del pétalo {virginica_petal_area_sd:.3f}, Límite {petal_treshold:.3f}\")\n",
    "\n",
    "print(f\"Area promedio del Sépalo: {virginica_sepal_area_mean:.3f}, Desviación Estándard del área del sépalo {virginica_sepal_area_sd:.3f}, Límite {sepal_treshold:.3f}\")\n",
    "\n",
    "print(\"\\nPosibles elementos mal clasificados: \")\n",
    "\n",
    "for i in range(50):\n",
    "    if virginica_petal_area[i] > petal_treshold:\n",
    "        print(f\"Elemento {i}, área del pétalo {virginica_petal_area[i]}\")\n",
    "\n",
    "print()\n",
    "for i in range(50):\n",
    "    if virginica_sepal_area[i] > sepal_treshold:\n",
    "        print(f\"Elemento {i}, área del sépalo {virginica_sepal_area[i]}\")"
   ]
  },
  {
   "cell_type": "markdown",
   "metadata": {},
   "source": [
    "## Pregunta 3\n",
    "\n",
    "El error causado de redondear a un decimal es que se podría tener a una instancia u objeto como uno mal clasificado, debido a que se pueden perder décimales y estar fuera o dentro del límite de clasificación, haciendo así que esta instancia tenga un calsifiación errónea. \n",
    "\n",
    "Además que en algoritmos de ML como el KNN esta pérdida de décimales puede tener gran importancia en los cálculos realizados, obteniendo así una clasificación erronea."
   ]
  },
  {
   "cell_type": "markdown",
   "metadata": {},
   "source": [
    "## Pregunta 4 \n",
    "\n",
    "¿Cuál es la correlación entre la longitud y el ancho de los pétalos en cada flor?"
   ]
  },
  {
   "cell_type": "code",
   "execution_count": 45,
   "metadata": {},
   "outputs": [],
   "source": [
    "#Pregunta 4\n",
    "def correlacion(atr1: pd.Series, atr2: pd.Series):\n",
    "    n=len(atr1)\n",
    "    sum_atr1_atr2=0\n",
    "    sum_atr1=0\n",
    "    sum_atr2=0\n",
    "    sum_atr1_cua=0\n",
    "    sum_atr2_cua=0\n",
    "    for x, y in zip(atr1,atr2):\n",
    "        sum_atr1 += x\n",
    "        sum_atr2 += y\n",
    "        sum_atr1_cua += x**2\n",
    "        sum_atr2_cua += y**2\n",
    "        sum_atr1_atr2 += x*y\n",
    "\n",
    "    sum_cuatr1 = sum_atr1**2\n",
    "    sum_cuatr2 = sum_atr2**2\n",
    "\n",
    "    num=((n*sum_atr1_atr2) - (sum_atr1*sum_atr2))\n",
    "    den= (((n*sum_atr1_cua)- (sum_cuatr1))**0.5)*(((n*sum_atr2_cua)- (sum_cuatr2))**0.5)\n",
    "    \n",
    "    ans= num/den\n",
    "    return ans"
   ]
  },
  {
   "cell_type": "code",
   "execution_count": 46,
   "metadata": {},
   "outputs": [
    {
     "data": {
      "text/html": [
       "<div>\n",
       "<style scoped>\n",
       "    .dataframe tbody tr th:only-of-type {\n",
       "        vertical-align: middle;\n",
       "    }\n",
       "\n",
       "    .dataframe tbody tr th {\n",
       "        vertical-align: top;\n",
       "    }\n",
       "\n",
       "    .dataframe thead th {\n",
       "        text-align: right;\n",
       "    }\n",
       "</style>\n",
       "<table border=\"1\" class=\"dataframe\">\n",
       "  <thead>\n",
       "    <tr style=\"text-align: right;\">\n",
       "      <th></th>\n",
       "      <th>sepal length</th>\n",
       "      <th>sepal width</th>\n",
       "      <th>petal length</th>\n",
       "      <th>petal width</th>\n",
       "      <th>species</th>\n",
       "    </tr>\n",
       "  </thead>\n",
       "  <tbody>\n",
       "    <tr>\n",
       "      <th>0</th>\n",
       "      <td>5.1</td>\n",
       "      <td>3.5</td>\n",
       "      <td>1.4</td>\n",
       "      <td>0.2</td>\n",
       "      <td>Iris-setosa</td>\n",
       "    </tr>\n",
       "    <tr>\n",
       "      <th>1</th>\n",
       "      <td>4.9</td>\n",
       "      <td>3.0</td>\n",
       "      <td>1.4</td>\n",
       "      <td>0.2</td>\n",
       "      <td>Iris-setosa</td>\n",
       "    </tr>\n",
       "    <tr>\n",
       "      <th>2</th>\n",
       "      <td>4.7</td>\n",
       "      <td>3.2</td>\n",
       "      <td>1.3</td>\n",
       "      <td>0.2</td>\n",
       "      <td>Iris-setosa</td>\n",
       "    </tr>\n",
       "    <tr>\n",
       "      <th>3</th>\n",
       "      <td>4.6</td>\n",
       "      <td>3.1</td>\n",
       "      <td>1.5</td>\n",
       "      <td>0.2</td>\n",
       "      <td>Iris-setosa</td>\n",
       "    </tr>\n",
       "    <tr>\n",
       "      <th>4</th>\n",
       "      <td>5.0</td>\n",
       "      <td>3.6</td>\n",
       "      <td>1.4</td>\n",
       "      <td>0.2</td>\n",
       "      <td>Iris-setosa</td>\n",
       "    </tr>\n",
       "    <tr>\n",
       "      <th>...</th>\n",
       "      <td>...</td>\n",
       "      <td>...</td>\n",
       "      <td>...</td>\n",
       "      <td>...</td>\n",
       "      <td>...</td>\n",
       "    </tr>\n",
       "    <tr>\n",
       "      <th>145</th>\n",
       "      <td>6.7</td>\n",
       "      <td>3.0</td>\n",
       "      <td>5.2</td>\n",
       "      <td>2.3</td>\n",
       "      <td>Iris-virginica</td>\n",
       "    </tr>\n",
       "    <tr>\n",
       "      <th>146</th>\n",
       "      <td>6.3</td>\n",
       "      <td>2.5</td>\n",
       "      <td>5.0</td>\n",
       "      <td>1.9</td>\n",
       "      <td>Iris-virginica</td>\n",
       "    </tr>\n",
       "    <tr>\n",
       "      <th>147</th>\n",
       "      <td>6.5</td>\n",
       "      <td>3.0</td>\n",
       "      <td>5.2</td>\n",
       "      <td>2.0</td>\n",
       "      <td>Iris-virginica</td>\n",
       "    </tr>\n",
       "    <tr>\n",
       "      <th>148</th>\n",
       "      <td>6.2</td>\n",
       "      <td>3.4</td>\n",
       "      <td>5.4</td>\n",
       "      <td>2.3</td>\n",
       "      <td>Iris-virginica</td>\n",
       "    </tr>\n",
       "    <tr>\n",
       "      <th>149</th>\n",
       "      <td>5.9</td>\n",
       "      <td>3.0</td>\n",
       "      <td>5.1</td>\n",
       "      <td>1.8</td>\n",
       "      <td>Iris-virginica</td>\n",
       "    </tr>\n",
       "  </tbody>\n",
       "</table>\n",
       "<p>150 rows × 5 columns</p>\n",
       "</div>"
      ],
      "text/plain": [
       "     sepal length  sepal width  petal length  petal width         species\n",
       "0             5.1          3.5           1.4          0.2     Iris-setosa\n",
       "1             4.9          3.0           1.4          0.2     Iris-setosa\n",
       "2             4.7          3.2           1.3          0.2     Iris-setosa\n",
       "3             4.6          3.1           1.5          0.2     Iris-setosa\n",
       "4             5.0          3.6           1.4          0.2     Iris-setosa\n",
       "..            ...          ...           ...          ...             ...\n",
       "145           6.7          3.0           5.2          2.3  Iris-virginica\n",
       "146           6.3          2.5           5.0          1.9  Iris-virginica\n",
       "147           6.5          3.0           5.2          2.0  Iris-virginica\n",
       "148           6.2          3.4           5.4          2.3  Iris-virginica\n",
       "149           5.9          3.0           5.1          1.8  Iris-virginica\n",
       "\n",
       "[150 rows x 5 columns]"
      ]
     },
     "execution_count": 46,
     "metadata": {},
     "output_type": "execute_result"
    }
   ],
   "source": [
    "iris"
   ]
  },
  {
   "cell_type": "code",
   "execution_count": 47,
   "metadata": {},
   "outputs": [
    {
     "name": "stdout",
     "output_type": "stream",
     "text": [
      "La correlación entre longitud y ancho de los pétalos es de: 0.9627570970509656\n"
     ]
    }
   ],
   "source": [
    "correlacion_petalos = correlacion(iris['petal length'], iris['petal width'])\n",
    "print(f\"La correlación entre longitud y ancho de los pétalos es de: {correlacion_petalos}\")"
   ]
  },
  {
   "cell_type": "markdown",
   "metadata": {},
   "source": [
    "## Pregunta 5 \n",
    "\n",
    "¿Qué par de dimensiones están más correlacionadas? "
   ]
  },
  {
   "cell_type": "code",
   "execution_count": 48,
   "metadata": {},
   "outputs": [],
   "source": [
    "def sort_dict(myDict):\n",
    "    tuples = [(clave, myDict[clave]) for clave in myDict]\n",
    "\n",
    "    for i in range(len(tuples)):\n",
    "        for j in range(i + 1, len(tuples)):\n",
    "            if abs(tuples[i][1]) < abs(tuples[j][1]):\n",
    "                tuples[i], tuples[j] = tuples[j], tuples[i]\n",
    "\n",
    "    return tuples"
   ]
  },
  {
   "cell_type": "code",
   "execution_count": 49,
   "metadata": {},
   "outputs": [
    {
     "name": "stdout",
     "output_type": "stream",
     "text": [
      "Petal length & Petal width: 0.9627570970509656\n",
      "Sepal length & Petal length: 0.8717541573048863\n",
      "Sepal length & Petal width: 0.8179536333691775\n",
      "Sepal width & Petal length: -0.4205160964011883\n",
      "Sepal width & Petal width: -0.3565440896138223\n",
      "Sepal length & Sepal width: -0.10936924995067286\n"
     ]
    }
   ],
   "source": [
    "correlations = {}\n",
    "# Sepal length & Sepal width\n",
    "correlations[\"Sepal length & Sepal width\"] = correlacion(iris['sepal length'], iris['sepal width'])\n",
    "\n",
    "# Petal length & Petal width\n",
    "correlations[\"Petal length & Petal width\"] = correlacion(iris['petal length'], iris['petal width'])\n",
    "\n",
    "# Sepal lenght & Petal length\n",
    "correlations[\"Sepal length & Petal length\"] = correlacion(iris['sepal length'], iris['petal length'])\n",
    "\n",
    "# Sepal lenght & Petal width\n",
    "correlations[\"Sepal length & Petal width\"] = correlacion(iris['sepal length'], iris['petal width'])\n",
    "\n",
    "# Sepal width & Petal length\n",
    "correlations[\"Sepal width & Petal length\"] = correlacion(iris['sepal width'], iris['petal length'])\n",
    "\n",
    "# Sepal width & Petal width\n",
    "correlations[\"Sepal width & Petal width\"] = correlacion(iris['sepal width'], iris['petal width'])\n",
    "\n",
    "correlations = sort_dict(correlations)\n",
    "\n",
    "for correlation in correlations:\n",
    "    print(f\"{correlation[0]}: {correlation[1]}\")"
   ]
  },
  {
   "cell_type": "markdown",
   "metadata": {},
   "source": [
    "## Pregunta 6\n",
    "\n",
    "¿Qué longitud de sépalo se espera para una flor que tuviera 1.8 cm como ancho de sépalo? "
   ]
  },
  {
   "cell_type": "code",
   "execution_count": 50,
   "metadata": {},
   "outputs": [],
   "source": [
    "def reg_lin(atr1: pd.Series, atr2: pd.Series):\n",
    "    \n",
    "    n=len(atr1)\n",
    "    sum_atr1_atr2=0\n",
    "    sum_atr1=0\n",
    "    sum_atr2=0\n",
    "    sum_atr1_cua=0\n",
    "    sum_atr2_cua=0\n",
    "    for x, y in zip(atr1,atr2):\n",
    "        sum_atr1+=x\n",
    "        sum_atr2+=y\n",
    "        sum_atr1_cua += x**2\n",
    "        sum_atr2_cua += y**2\n",
    "        sum_atr1_atr2 +=x*y\n",
    "\n",
    "    sum_cuatr1 = sum_atr1**2\n",
    "\n",
    "    b1 = ((n*sum_atr1_atr2)-(sum_atr1*sum_atr2))/(n*sum_atr1_cua-sum_cuatr1)\n",
    "    b0 = (sum_atr2 - b1*sum_atr1)/n\n",
    "    \n",
    "    return[b0, b1]   "
   ]
  },
  {
   "cell_type": "code",
   "execution_count": 51,
   "metadata": {},
   "outputs": [
    {
     "name": "stdout",
     "output_type": "stream",
     "text": [
      "La longitud de sépalo esperada para una flor con 1.8 cm como ancho de sépalo es de 6.105\n"
     ]
    }
   ],
   "source": [
    "b0, b1 = reg_lin(iris['sepal width'], iris['sepal length'])\n",
    "instance = [(b0 + (b1 * 1.8)), 1.8]\n",
    "print(f\"La longitud de sépalo esperada para una flor con 1.8 cm como ancho de sépalo es de {instance[0]:.3f}\")"
   ]
  },
  {
   "cell_type": "markdown",
   "metadata": {},
   "source": [
    "## Pregunta 7\n",
    "\n",
    "¿A qué especie pertenecería un Iris con un ancho de sépalo de 1.8 cm? "
   ]
  },
  {
   "cell_type": "code",
   "execution_count": 52,
   "metadata": {},
   "outputs": [
    {
     "name": "stdout",
     "output_type": "stream",
     "text": [
      "La especia a la que podría pertenecer un elemento con ancho de sépalo de 1.8cm es Iris-versicolor\n"
     ]
    }
   ],
   "source": [
    "def euclidian_distance(x1, y1, x2, y2):\n",
    "    return ((x1 - x2) ** 2 + (y1 - y2) ** 2) ** 0.5\n",
    "\n",
    "def k_nearest_neighbors(longitud_sepalo, ancho_sepalo, punto, k):\n",
    "    distancias = []\n",
    "    for i in range(len(longitud_sepalo)):\n",
    "        dist = euclidian_distance(longitud_sepalo[i], ancho_sepalo[i], punto[0], punto[1])\n",
    "        distancias.append((dist, i))\n",
    "    \n",
    "    distancias.sort()\n",
    "    k_vecinos = []\n",
    "    for i in range(k):\n",
    "        k_vecinos.append(distancias[i][1])\n",
    "    \n",
    "    return k_vecinos\n",
    "\n",
    "k = 3\n",
    "neighbors = k_nearest_neighbors(iris[\"sepal length\"], iris[\"sepal width\"], instance, k)\n",
    "\n",
    "classes = {}\n",
    "for n in neighbors: \n",
    "    if iris[\"species\"][n] in classes:\n",
    "        classes[iris[\"species\"][n]] += 1\n",
    "    else:\n",
    "        classes[iris[\"species\"][n]] = 1\n",
    "\n",
    "classes = sort_dict(classes)\n",
    "\n",
    "for key in classes:\n",
    "    print(f\"La especia a la que podría pertenecer un elemento con ancho de sépalo de 1.8cm es {key[0]}\")\n",
    "    break\n"
   ]
  },
  {
   "cell_type": "markdown",
   "metadata": {},
   "source": [
    "## Prrgunta 9 \n",
    "\n",
    "Calcular la media aritmética, media generalizada, mediana, moda, varianza, desviación estándar, así como los valores máximos y mínimos de las áreas de los sépalos y pétalos, de cada una de las 3 especies de flores Iris. Dar una interpretación de qué representan estas medidas a nivel macro (conjunto de datos) y a nivel micro (por cada especie de flor Iris)."
   ]
  },
  {
   "cell_type": "code",
   "execution_count": 53,
   "metadata": {},
   "outputs": [],
   "source": [
    "areas = pd.read_csv(\"IrisAreas.csv\")\n",
    "\n",
    "petal_area = areas[\"petal area\"].tolist()\n",
    "sepal_area = areas[\"sepal area\"].tolist()"
   ]
  },
  {
   "cell_type": "code",
   "execution_count": 54,
   "metadata": {},
   "outputs": [
    {
     "name": "stdout",
     "output_type": "stream",
     "text": [
      "----------Media aritmética----------\n",
      "La media del área del pétalo general es de: 5.793\n",
      "La media del área del sépalo general es de: 17.807\n",
      "\n",
      "La media del área del pétalo setosa es de: 0.363\n",
      "La media del área del sépalo setosa es de: 17.209\n",
      "\n",
      "La media del área del pétalo versicolor es de: 5.720\n",
      "La media del área del sépalo versicolor es de: 16.526\n",
      "\n",
      "La media del área del pétalo virginica es de: 11.296\n",
      "La media del área del sépalo virginica es de: 19.685\n"
     ]
    }
   ],
   "source": [
    "print('-' * 10 + \"Media aritmética\" + '-' * 10)\n",
    "print(f\"La media del área del pétalo general es de: {arithmetic_mean(petal_area):.3f}\")\n",
    "print(f\"La media del área del sépalo general es de: {arithmetic_mean(sepal_area):.3f}\")\n",
    "\n",
    "print(f\"\\nLa media del área del pétalo setosa es de: {setosa_petal_area_mean:.3f}\")\n",
    "print(f\"La media del área del sépalo setosa es de: {setosa_sepal_area_mean:.3f}\")\n",
    "\n",
    "print(f\"\\nLa media del área del pétalo versicolor es de: {versicolor_petal_area_mean:.3f}\")\n",
    "print(f\"La media del área del sépalo versicolor es de: {versicolor_sepal_area_mean:.3f}\")\n",
    "\n",
    "print(f\"\\nLa media del área del pétalo virginica es de: {virginica_petal_area_mean:.3f}\")\n",
    "print(f\"La media del área del sépalo virginica es de: {virginica_sepal_area_mean:.3f}\")"
   ]
  },
  {
   "cell_type": "code",
   "execution_count": 55,
   "metadata": {},
   "outputs": [
    {
     "data": {
      "text/plain": [
       "0.28"
      ]
     },
     "execution_count": 55,
     "metadata": {},
     "output_type": "execute_result"
    }
   ],
   "source": [
    "def media_generalizada(lista_valores, lista_pesos):\n",
    "    \n",
    "    suma_ponderada = sum(valor * peso for valor, peso in zip(lista_valores, lista_pesos))\n",
    "    \n",
    "    suma_pesos = sum(lista_pesos)\n",
    "    \n",
    "    media_generalizada = suma_ponderada / suma_pesos\n",
    "    \n",
    "    return media_generalizada\n",
    "\n",
    "\n",
    "pesos = [1]\n",
    "\n",
    "media_generalizada_petalo=media_generalizada(petal_area, pesos)\n",
    "media_generalizada_petalo"
   ]
  },
  {
   "cell_type": "code",
   "execution_count": 56,
   "metadata": {},
   "outputs": [
    {
     "name": "stdout",
     "output_type": "stream",
     "text": [
      "----------Media generalizada----------\n",
      "La media generalizada del área del pétalo general es de: 0.280\n",
      "\n",
      "La media generalizada del área del pétalo setosa es de: 0.280\n",
      "La media generalizada del área del sépalo setosa es de: 17.850\n",
      "\n",
      "La media generalizada del área del pétalo versicolor es de: 6.580\n",
      "La media generalizada del área del sépalo versicolor es de: 22.400\n",
      "\n",
      "La media generalizada del área del pétalo virginica es de: 15.000\n",
      "La media generalizada del área del sépalo virginica es de: 20.790\n"
     ]
    }
   ],
   "source": [
    "print('-' * 10 + \"Media generalizada\" + '-' * 10)\n",
    "\n",
    "print(f\"La media generalizada del área del pétalo general es de: {media_generalizada_petalo:.3f}\")\n",
    "\n",
    "print(f\"\\nLa media generalizada del área del pétalo setosa es de: {media_generalizada(setosa_petal_area, pesos):.3f}\")\n",
    "print(f\"La media generalizada del área del sépalo setosa es de: {media_generalizada(setosa_sepal_area, pesos):.3f}\")\n",
    "\n",
    "print(f\"\\nLa media generalizada del área del pétalo versicolor es de: {media_generalizada(versicolor_petal_area, pesos):.3f}\")\n",
    "print(f\"La media generalizada del área del sépalo versicolor es de: {media_generalizada(versicolor_sepal_area, pesos):.3f}\")\n",
    "\n",
    "\n",
    "print(f\"\\nLa media generalizada del área del pétalo virginica es de: {media_generalizada(virginica_petal_area, pesos):.3f}\")\n",
    "print(f\"La media generalizada del área del sépalo virginica es de: {media_generalizada(virginica_sepal_area, pesos):.3f}\")"
   ]
  },
  {
   "cell_type": "code",
   "execution_count": 57,
   "metadata": {},
   "outputs": [],
   "source": [
    "def sort_list(arr):\n",
    "    n = len(arr)\n",
    "\n",
    "    for i in range(n):\n",
    "        for j in range(0, n-i-1):\n",
    "            if arr[j] > arr[j+1]:\n",
    "                arr[j], arr[j+1] = arr[j+1], arr[j]\n",
    "                \n",
    "                \n",
    "def mediana(lista:list):\n",
    "    n=len(lista)\n",
    "    sort_list(lista)\n",
    "    if n%2==0:\n",
    "        return (lista[n//2-1]+lista[n//2])/2\n",
    "    else:\n",
    "        return lista[n//2]"
   ]
  },
  {
   "cell_type": "code",
   "execution_count": 58,
   "metadata": {},
   "outputs": [
    {
     "name": "stdout",
     "output_type": "stream",
     "text": [
      "----------Mediana----------\n",
      "La mediana del área del pétalo general es de: 5.615\n",
      "La mediana del área del sépalo general es de: 17.660\n",
      "\n",
      "Mediana pétalo setosa: 0.300\n",
      "Mediana sépalo setosa: 17.000\n",
      "\n",
      "Mediana pétalo versicolor: 5.615\n",
      "Mediana sépalo versicolor: 16.385\n",
      "\n",
      "Mediana pétalo virginica: 11.445\n",
      "Mediana sépalo virginica: 20.060\n"
     ]
    }
   ],
   "source": [
    "print('-' * 10 + \"Mediana\" + '-' * 10)\n",
    "\n",
    "print(f\"La mediana del área del pétalo general es de: {mediana(petal_area):.3f}\")\n",
    "print(f\"La mediana del área del sépalo general es de: {mediana(sepal_area):.3f}\")\n",
    "#Setosa\n",
    "\n",
    "petal_med= mediana(setosa_petal_area)\n",
    "sepal_med= mediana(setosa_sepal_area)\n",
    "\n",
    "print(f\"\\nMediana pétalo setosa: {petal_med:.3f}\")\n",
    "print(f\"Mediana sépalo setosa: {sepal_med:.3f}\")\n",
    "\n",
    "#Versicolor\n",
    "petal_med= mediana(versicolor_petal_area)\n",
    "sepal_med= mediana(versicolor_sepal_area)\n",
    "\n",
    "print(f\"\\nMediana pétalo versicolor: {petal_med:.3f}\")\n",
    "print(f\"Mediana sépalo versicolor: {sepal_med:.3f}\")\n",
    "\n",
    "#Virginica\n",
    "petal_med= mediana(virginica_petal_area)\n",
    "sepal_med= mediana(virginica_sepal_area)\n",
    "\n",
    "print(f\"\\nMediana pétalo virginica: {petal_med:.3f}\")\n",
    "print(f\"Mediana sépalo virginica: {sepal_med:.3f}\")"
   ]
  },
  {
   "cell_type": "code",
   "execution_count": 59,
   "metadata": {},
   "outputs": [],
   "source": [
    "#Pregunta 9 Moda\n",
    "def mode(lista):\n",
    "    conteo = {}\n",
    "    for elemento in lista:\n",
    "        if elemento in conteo:\n",
    "            conteo[elemento] += 1\n",
    "        else:\n",
    "            conteo[elemento] = 1\n",
    "    \n",
    "    maximo_apariciones = max(conteo.values())\n",
    "    moda = []\n",
    "    for elemento, apariciones in conteo.items():\n",
    "        if apariciones == maximo_apariciones:\n",
    "            moda.append(elemento)\n",
    "\n",
    "    return moda"
   ]
  },
  {
   "cell_type": "code",
   "execution_count": 60,
   "metadata": {},
   "outputs": [
    {
     "name": "stdout",
     "output_type": "stream",
     "text": [
      "----------Moda----------\n",
      "La moda del área del pétalo general es de: [0.28]\n",
      "La moda del área del sépalo general es de: [13.2]\n",
      "\n",
      "La moda del petalo setosa es de: [0.28]\n",
      "La moda del sepalo setosa es de: [15.19, 19.38]\n",
      "\n",
      "La moda del petalo versicolor es de: [6.75]\n",
      "La moda del sepalo versicolor es de: [13.2]\n",
      "\n",
      "La moda del virginica setosa es de: [7.65, 8.64, 8.82, 9.69, 9.9, 11.34, 13.44]\n",
      "La moda del virginica setosa es de: [19.5]\n"
     ]
    }
   ],
   "source": [
    "print('-' * 10 + \"Moda\" + '-' * 10)\n",
    "\n",
    "print(f\"La moda del área del pétalo general es de: {mode(petal_area)}\")\n",
    "print(f\"La moda del área del sépalo general es de: {mode(sepal_area)}\")\n",
    "\n",
    "#Setosa\n",
    "petal_mode= mode(setosa_petal_area)\n",
    "sepal_mode= mode(setosa_sepal_area)\n",
    "\n",
    "print(f\"\\nLa moda del petalo setosa es de: {petal_mode}\")\n",
    "print(f\"La moda del sepalo setosa es de: {sepal_mode}\")\n",
    "\n",
    "#Versicolor\n",
    "petal_mode= mode(versicolor_petal_area)\n",
    "sepal_mode= mode(versicolor_sepal_area)\n",
    "\n",
    "print(f\"\\nLa moda del petalo versicolor es de: {petal_mode}\")\n",
    "print(f\"La moda del sepalo versicolor es de: {sepal_mode}\")\n",
    "\n",
    "#Virginica\n",
    "petal_mode= mode(virginica_petal_area)\n",
    "sepal_mode= mode(virginica_sepal_area)\n",
    "\n",
    "print(f\"\\nLa moda del virginica setosa es de: {petal_mode}\")\n",
    "print(f\"La moda del virginica setosa es de: {sepal_mode}\")\n",
    "\n"
   ]
  },
  {
   "cell_type": "code",
   "execution_count": 61,
   "metadata": {},
   "outputs": [
    {
     "name": "stdout",
     "output_type": "stream",
     "text": [
      "----------Varianza----------\n",
      "La varianza del área del pétalo general es de: 22.069\n",
      "La varianza del área del sépalo general es de: 11.272\n",
      "\n",
      "Varianza pétalo setosa: 0.033\n",
      "Varianza sépalo setosa: 8.515\n",
      "\n",
      "Varianza pétalo versicolor: 1.835\n",
      "Varianza sépalo versicolor: 8.055\n",
      "\n",
      "Varianza pétalo virginica: 4.561\n",
      "Varianza sépalo virginica: 11.724\n"
     ]
    }
   ],
   "source": [
    "\n",
    "#Variance\n",
    "print('-' * 10 + \"Varianza\" + '-' * 10)\n",
    "\n",
    "print(f\"La varianza del área del pétalo general es de: {variance(petal_area):.3f}\")\n",
    "print(f\"La varianza del área del sépalo general es de: {variance(sepal_area):.3f}\")\n",
    "\n",
    "#Setosa\n",
    "variance_petal= variance(setosa_petal_area)\n",
    "variance_sepal= variance(setosa_sepal_area)\n",
    "\n",
    "print(f\"\\nVarianza pétalo setosa: {variance_petal:.3f}\")\n",
    "print(f\"Varianza sépalo setosa: {variance_sepal:.3f}\")\n",
    "\n",
    "#Versicolor\n",
    "variance_petal= variance(versicolor_petal_area)\n",
    "variance_sepal= variance(versicolor_sepal_area)\n",
    "\n",
    "print(f\"\\nVarianza pétalo versicolor: {variance_petal:.3f}\")\n",
    "print(f\"Varianza sépalo versicolor: {variance_sepal:.3f}\")\n",
    "\n",
    "#Versicolor\n",
    "variance_petal= variance(virginica_petal_area)\n",
    "variance_sepal= variance(virginica_sepal_area)\n",
    "\n",
    "print(f\"\\nVarianza pétalo virginica: {variance_petal:.3f}\")\n",
    "print(f\"Varianza sépalo virginica: {variance_sepal:.3f}\")"
   ]
  },
  {
   "cell_type": "code",
   "execution_count": 62,
   "metadata": {},
   "outputs": [
    {
     "name": "stdout",
     "output_type": "stream",
     "text": [
      "----------Desviación Estándar----------\n",
      "La Desviación Estándar del área del pétalo general es de: 4.698\n",
      "La Desviación Estándar del área del sépalo general es de: 3.357\n",
      "\n",
      "Desviación Estándard petalo setosa: 0.181\n",
      "Desviación Estándard sepalo setosa: 2.918\n",
      "\n",
      "Desviación Estándard petalo versicolor: 1.355\n",
      "Desviación Estándard sepalo versicolor: 2.838\n",
      "\n",
      "Desviación Estándard petalo virginica: 2.136\n",
      "Desviación Estándard sepalo virginica: 3.424\n"
     ]
    }
   ],
   "source": [
    "\n",
    "\n",
    "\n",
    "#Desviacion estandar\n",
    "print('-' * 10 + \"Desviación Estándar\" + '-' * 10)\n",
    "\n",
    "print(f\"La Desviación Estándar del área del pétalo general es de: {standardDeviation(petal_area):.3f}\")\n",
    "print(f\"La Desviación Estándar del área del sépalo general es de: {standardDeviation(sepal_area):.3f}\")\n",
    "\n",
    "#Setosa\n",
    "sd_petal = standardDeviation(setosa_petal_area)\n",
    "sd_sepal= standardDeviation(setosa_sepal_area)\n",
    "\n",
    "print(f\"\\nDesviación Estándard petalo setosa: {sd_petal:.3f}\")\n",
    "print(f\"Desviación Estándard sepalo setosa: {sd_sepal:.3f}\")\n",
    "\n",
    "#Versicolor\n",
    "sd_petal = standardDeviation(versicolor_petal_area)\n",
    "sd_sepal= standardDeviation(versicolor_sepal_area)\n",
    "\n",
    "print(f\"\\nDesviación Estándard petalo versicolor: {sd_petal:.3f}\")\n",
    "print(f\"Desviación Estándard sepalo versicolor: {sd_sepal:.3f}\")\n",
    "\n",
    "#Versicolor\n",
    "sd_petal = standardDeviation(virginica_petal_area)\n",
    "sd_sepal= standardDeviation(virginica_sepal_area)\n",
    "\n",
    "print(f\"\\nDesviación Estándard petalo virginica: {sd_petal:.3f}\")\n",
    "print(f\"Desviación Estándard sepalo virginica: {sd_sepal:.3f}\")\n"
   ]
  },
  {
   "cell_type": "code",
   "execution_count": 63,
   "metadata": {},
   "outputs": [
    {
     "name": "stdout",
     "output_type": "stream",
     "text": [
      "----------Máximo----------\n",
      "El máximo del área del pétalo general es de: 15.870\n",
      "El máximo del área del sépalo general es de: 30.020\n",
      "\n",
      "Máximo petalo setosa: 0.960\n",
      "Máximo sepalo setosa: 25.080\n",
      "\n",
      "Máximo petalo versicolor: 8.640\n",
      "Máximo sepalo versicolor: 22.400\n",
      "\n",
      "Máximo petalo virginica: 15.870\n",
      "Máximo sepalo virginica: 30.020\n"
     ]
    }
   ],
   "source": [
    "#Pregunta 9 Máximo \n",
    "print('-' * 10 + \"Máximo\" + '-' * 10)\n",
    "def maximo(lista):\n",
    "    maximo=lista[0]\n",
    "    for i in range(1,len(lista)):\n",
    "        if lista[i]>maximo:\n",
    "            maximo=lista[i]\n",
    "    return maximo\n",
    "\n",
    "print(f\"El máximo del área del pétalo general es de: {maximo(petal_area):.3f}\")\n",
    "print(f\"El máximo del área del sépalo general es de: {maximo(sepal_area):.3f}\")\n",
    "\n",
    "#Setosa\n",
    "max_petal = maximo(setosa_petal_area)\n",
    "max_sepal = maximo(setosa_sepal_area)\n",
    "\n",
    "print(f\"\\nMáximo petalo setosa: {max_petal:.3f}\")\n",
    "print(f\"Máximo sepalo setosa: {max_sepal:.3f}\")\n",
    "\n",
    "#Versicolor\n",
    "max_petal = maximo(versicolor_petal_area)\n",
    "max_sepal = maximo(versicolor_sepal_area)\n",
    "\n",
    "print(f\"\\nMáximo petalo versicolor: {max_petal:.3f}\")\n",
    "print(f\"Máximo sepalo versicolor: {max_sepal:.3f}\")\n",
    "\n",
    "#Virginica\n",
    "max_petal = maximo(virginica_petal_area)\n",
    "max_sepal = maximo(virginica_sepal_area)\n",
    "\n",
    "print(f\"\\nMáximo petalo virginica: {max_petal:.3f}\")\n",
    "print(f\"Máximo sepalo virginica: {max_sepal:.3f}\")"
   ]
  },
  {
   "cell_type": "code",
   "execution_count": 64,
   "metadata": {},
   "outputs": [
    {
     "name": "stdout",
     "output_type": "stream",
     "text": [
      "----------Mínimo----------\n",
      "El mínimo del área del pétalo general es de: 0.110\n",
      "El mínimo del área del sépalo general es de: 10.000\n",
      "\n",
      "Mínimo petalo setosa: 0.110\n",
      "Mínimo sepalo setosa: 10.350\n",
      "\n",
      "Mínimo petalo versicolor: 3.300\n",
      "Mínimo sepalo versicolor: 10.000\n",
      "\n",
      "Mínimo petalo virginica: 7.500\n",
      "Mínimo sepalo virginica: 12.250\n"
     ]
    }
   ],
   "source": [
    "#Pregunta 9 Mínimo\n",
    "print('-' * 10 + \"Mínimo\" + '-' * 10)\n",
    "def minimum(lista):\n",
    "    minimo=lista[0]\n",
    "    for i in range(1,len(lista)):\n",
    "        if lista[i]<minimo:\n",
    "            minimo=lista[i]\n",
    "    return minimo\n",
    "\n",
    "print(f\"El mínimo del área del pétalo general es de: {minimum(petal_area):.3f}\")\n",
    "print(f\"El mínimo del área del sépalo general es de: {minimum(sepal_area):.3f}\")\n",
    "\n",
    "\n",
    "#Setosa\n",
    "min_petal = minimum(setosa_petal_area)\n",
    "min_sepal = minimum(setosa_sepal_area)\n",
    "\n",
    "print(f\"\\nMínimo petalo setosa: {min_petal:.3f}\")\n",
    "print(f\"Mínimo sepalo setosa: {min_sepal:.3f}\")\n",
    "\n",
    "#Versicolor\n",
    "min_petal = minimum(versicolor_petal_area)\n",
    "min_sepal = minimum(versicolor_sepal_area)\n",
    "\n",
    "print(f\"\\nMínimo petalo versicolor: {min_petal:.3f}\")\n",
    "print(f\"Mínimo sepalo versicolor: {min_sepal:.3f}\")\n",
    "\n",
    "#Virginica\n",
    "min_petal = minimum(virginica_petal_area)\n",
    "min_sepal = minimum(virginica_sepal_area)\n",
    "\n",
    "print(f\"\\nMínimo petalo virginica: {min_petal:.3f}\")\n",
    "print(f\"Mínimo sepalo virginica: {min_sepal:.3f}\")"
   ]
  }
 ],
 "metadata": {
  "kernelspec": {
   "display_name": "base",
   "language": "python",
   "name": "python3"
  },
  "language_info": {
   "codemirror_mode": {
    "name": "ipython",
    "version": 3
   },
   "file_extension": ".py",
   "mimetype": "text/x-python",
   "name": "python",
   "nbconvert_exporter": "python",
   "pygments_lexer": "ipython3",
   "version": "3.11.5"
  }
 },
 "nbformat": 4,
 "nbformat_minor": 2
}
